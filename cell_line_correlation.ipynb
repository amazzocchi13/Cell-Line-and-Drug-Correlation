{
 "cells": [
  {
   "cell_type": "code",
   "execution_count": 80,
   "metadata": {},
   "outputs": [],
   "source": [
    "# Proposed Project \n",
    "# Andrea Mazzocchi\n",
    "\n",
    "# Import libraries\n",
    "import os\n",
    "import glob\n",
    "import pandas as pd\n",
    "\n",
    "import math\n",
    "from IPython import display \n",
    "from matplotlib import cm\n",
    "from matplotlib import gridspec\n",
    "from matplotlib import pyplot as plt\n",
    "import numpy as np\n",
    "from sklearn import metrics\n",
    "import tensorflow as tf\n",
    "from tensorflow.python.data import Dataset\n",
    "\n",
    "# Import data and combine\n",
    "\n",
    "# Create new file containing mutations and cell line name by going through cell line files\n",
    "os.chdir(\"/Users/test-august/GoogleDrive/TheDataIncubator/mutant_data\")\n",
    "extension = 'csv'\n",
    "all_filenames = [i for i in glob.glob('*.{}'.format(extension))]\n",
    "combined_csv = pd.concat([pd.read_csv(f) for f in all_filenames ], sort=False) #combine all files in the list\n",
    "combined_csv.to_csv( \"combined_csv.csv\", index=False, encoding='utf-8-sig') #export to csv"
   ]
  },
  {
   "cell_type": "code",
   "execution_count": 81,
   "metadata": {},
   "outputs": [],
   "source": [
    "df = pd.read_csv(\"combined_csv.csv\") # convert to dataframe\n",
    "df = df[['GENE_NAME',' SAMPLE_NAME']] # reduce dataframe to only necessary files\n",
    "df = df.rename(columns={\" SAMPLE_NAME\": \"SAMPLE_NAME\"})"
   ]
  },
  {
   "cell_type": "code",
   "execution_count": 82,
   "metadata": {},
   "outputs": [],
   "source": [
    "df[['GENE_NAME','extras']] = df['GENE_NAME'].str.split('_',expand=True)"
   ]
  },
  {
   "cell_type": "code",
   "execution_count": 83,
   "metadata": {
    "collapsed": true,
    "jupyter": {
     "outputs_hidden": true
    }
   },
   "outputs": [
    {
     "name": "stdout",
     "output_type": "stream",
     "text": [
      "       SAMPLE_NAME GENE_NAME\n",
      "0            A2780       SRC\n",
      "1            A2780       KDR\n",
      "2            A2780       ATR\n",
      "3            A2780      FLT4\n",
      "4            A2780      EGFR\n",
      "...            ...       ...\n",
      "792090        5637     ERBB2\n",
      "792091        5637     ERBB2\n",
      "792092        5637     ERBB2\n",
      "792093        5637     ERBB2\n",
      "792094        5637     ERBB2\n",
      "\n",
      "[792095 rows x 2 columns]\n"
     ]
    }
   ],
   "source": [
    "df = df[['SAMPLE_NAME','GENE_NAME']]\n",
    "print(df)"
   ]
  },
  {
   "cell_type": "code",
   "execution_count": 122,
   "metadata": {
    "collapsed": true,
    "jupyter": {
     "outputs_hidden": true
    }
   },
   "outputs": [
    {
     "name": "stdout",
     "output_type": "stream",
     "text": [
      "       SAMPLE_NAME GENE_NAME\n",
      "0            A2780       SRC\n",
      "1            A2780       KDR\n",
      "2            A2780       ATR\n",
      "3            A2780      FLT4\n",
      "4            A2780      EGFR\n",
      "...            ...       ...\n",
      "235952     NCI-H23      MC2R\n",
      "235961     NCI-H23   PCDHA11\n",
      "235962     NCI-H23     CXXC4\n",
      "235964       HepG2    CTNNB1\n",
      "235965        5637     ERBB2\n",
      "\n",
      "[46264 rows x 2 columns]\n"
     ]
    }
   ],
   "source": [
    "df1 = df.drop_duplicates()\n",
    "print(df1)"
   ]
  },
  {
   "cell_type": "code",
   "execution_count": 123,
   "metadata": {
    "collapsed": true,
    "jupyter": {
     "outputs_hidden": true
    }
   },
   "outputs": [
    {
     "name": "stdout",
     "output_type": "stream",
     "text": [
      "    SAMPLE_NAME  NUM_GENES\n",
      "0          5637          1\n",
      "1         A2780          8\n",
      "2          A375          5\n",
      "3          A549        559\n",
      "4           AGS         36\n",
      "..          ...        ...\n",
      "138       U-937          3\n",
      "139        U2OS          1\n",
      "140       UMUC3          1\n",
      "141    VMRC-LCD          2\n",
      "142   WSU-DLCL2         26\n",
      "\n",
      "[143 rows x 2 columns]\n",
      "SAMPLE_NAME    object\n",
      "NUM_GENES       int64\n",
      "dtype: object\n"
     ]
    }
   ],
   "source": [
    "df1_count = df1.groupby(['SAMPLE_NAME'],as_index=False).count()\n",
    "df1_count = df1_count.rename(columns={\"GENE_NAME\": \"NUM_GENES\"}) \n",
    "print(df1_count)\n",
    "print(df1_count.dtypes)"
   ]
  },
  {
   "cell_type": "code",
   "execution_count": 152,
   "metadata": {
    "collapsed": true,
    "jupyter": {
     "outputs_hidden": true
    }
   },
   "outputs": [
    {
     "data": {
      "text/plain": [
       "<matplotlib.legend.Legend at 0x1a5eb9b6d8>"
      ]
     },
     "execution_count": 152,
     "metadata": {},
     "output_type": "execute_result"
    },
    {
     "data": {
      "image/png": "[encoded data removed]",
      "text/plain": [
       "<Figure size 432x288 with 1 Axes>"
      ]
     },
     "metadata": {
      "needs_background": "light"
     },
     "output_type": "display_data"
    }
   ],
   "source": [
    "# Creating plots from cell line/mutation data\n",
    "plt.figure(1)\n",
    "plt.hist(df1_count['NUM_GENES'], bins = 'auto') # data before modification \n",
    "df1_count_mod = df1_count[df1_count.NUM_GENES < df1_count.NUM_GENES.quantile(.95)]\n",
    "plt.hist(df1_count_mod['NUM_GENES'], bins = 'auto')\n",
    "plt.title('Frequency of Cell Lines With Genetic Mutation')\n",
    "plt.ylabel('Frequency of Cell Lines')\n",
    "plt.xlabel('Number of Genetic Mutations')\n",
    "plt.legend(['All Data', '< 0.95 Quantile'])"
   ]
  },
  {
   "cell_type": "code",
   "execution_count": 150,
   "metadata": {
    "collapsed": true,
    "jupyter": {
     "outputs_hidden": true
    }
   },
   "outputs": [
    {
     "data": {
      "text/plain": [
       "Text(0.5, 0, 'Number of Genetic Mutations')"
      ]
     },
     "execution_count": 150,
     "metadata": {},
     "output_type": "execute_result"
    },
    {
     "data": {
      "image/png": "[encoded data removed]",
      "text/plain": [
       "<Figure size 432x288 with 1 Axes>"
      ]
     },
     "metadata": {
      "needs_background": "light"
     },
     "output_type": "display_data"
    }
   ],
   "source": [
    "plt.figure(2)\n",
    "plt.hist(df1_count_mod['NUM_GENES'], bins = 'auto')\n",
    "plt.title('Frequency of Cell Lines With Genetic Mutation (< 0.75 quantile)')\n",
    "plt.ylabel('Frequency of Cell Lines')\n",
    "plt.xlabel('Number of Genetic Mutations')"
   ]
  },
  {
   "cell_type": "code",
   "execution_count": 149,
   "metadata": {
    "collapsed": true,
    "jupyter": {
     "outputs_hidden": true
    }
   },
   "outputs": [
    {
     "name": "stdout",
     "output_type": "stream",
     "text": [
      "      GENE_NAME  SAMPLE_NAME\n",
      "0          A1BG            2\n",
      "1          A1CF            1\n",
      "2           A2M            6\n",
      "3         A2ML1            6\n",
      "4       A3GALT2            1\n",
      "...         ...          ...\n",
      "15171      ZXDC            3\n",
      "15172    ZYG11A            2\n",
      "15173    ZYG11B            3\n",
      "15174       ZYX            2\n",
      "15175     ZZEF1            9\n",
      "\n",
      "[15176 rows x 2 columns]\n"
     ]
    },
    {
     "data": {
      "text/plain": [
       "Text(0.5, 0, 'Number of Genetic Mutations')"
      ]
     },
     "execution_count": 149,
     "metadata": {},
     "output_type": "execute_result"
    },
    {
     "data": {
      "image/png": "[encoded data removed]",
      "text/plain": [
       "<Figure size 432x288 with 1 Axes>"
      ]
     },
     "metadata": {
      "needs_background": "light"
     },
     "output_type": "display_data"
    }
   ],
   "source": [
    "# Looking at most common genes\n",
    "df1_genes = df1.groupby(['GENE_NAME'],as_index=False).count()\n",
    "print(df1_genes)\n",
    "plt.figure(3)\n",
    "plt.hist(df1_genes['SAMPLE_NAME'], bins = 'auto')\n",
    "plt.title('Frequency of Genetic Mutations in Cell Lines (all data)')\n",
    "plt.ylabel('Frequency of Genetic Mutation')\n",
    "plt.xlabel('Number of Cell Lines')"
   ]
  },
  {
   "cell_type": "code",
   "execution_count": 148,
   "metadata": {
    "collapsed": true,
    "jupyter": {
     "outputs_hidden": true
    }
   },
   "outputs": [
    {
     "name": "stdout",
     "output_type": "stream",
     "text": [
      "      GENE_NAME  SAMPLE_NAME\n",
      "0          A1BG            2\n",
      "1          A1CF            1\n",
      "2           A2M            6\n",
      "3         A2ML1            6\n",
      "4       A3GALT2            1\n",
      "...         ...          ...\n",
      "15171      ZXDC            3\n",
      "15172    ZYG11A            2\n",
      "15173    ZYG11B            3\n",
      "15174       ZYX            2\n",
      "15175     ZZEF1            9\n",
      "\n",
      "[15002 rows x 2 columns]\n"
     ]
    },
    {
     "data": {
      "text/plain": [
       "Text(0.5, 0, 'Number of Cell Lines')"
      ]
     },
     "execution_count": 148,
     "metadata": {},
     "output_type": "execute_result"
    },
    {
     "data": {
      "image/png": "[encoded data removed]",
      "text/plain": [
       "<Figure size 432x288 with 1 Axes>"
      ]
     },
     "metadata": {
      "needs_background": "light"
     },
     "output_type": "display_data"
    }
   ],
   "source": [
    "df1_genes.dtypes\n",
    "df1_genes_mod = df1_genes[df1_genes.SAMPLE_NAME < df1_genes.SAMPLE_NAME.quantile(.99)]\n",
    "print (df1_genes_mod)\n",
    "plt.figure(4)\n",
    "plt.hist(df1_genes_mod['SAMPLE_NAME'], bins = 'auto')\n",
    "plt.title('Frequency of Genetic Mutations in Cell Lines (< 0.99 quantile)')\n",
    "plt.ylabel('Frequency of Genetic Mutation')\n",
    "plt.xlabel('Number of Cell Lines')"
   ]
  },
  {
   "cell_type": "code",
   "execution_count": 147,
   "metadata": {
    "collapsed": true,
    "jupyter": {
     "outputs_hidden": true
    }
   },
   "outputs": [
    {
     "data": {
      "text/plain": [
       "<matplotlib.legend.Legend at 0x1a47e0aeb8>"
      ]
     },
     "execution_count": 147,
     "metadata": {},
     "output_type": "execute_result"
    },
    {
     "data": {
      "image/png": "[encoded data removed]",
      "text/plain": [
       "<Figure size 432x288 with 1 Axes>"
      ]
     },
     "metadata": {
      "needs_background": "light"
     },
     "output_type": "display_data"
    }
   ],
   "source": [
    "# Opening cell line drug response data & plotting \n",
    "cell_resp = pd.read_csv(\"/Users/test-august/GoogleDrive/TheDataIncubator/area_under_curve.csv\")\n",
    "plt.figure(5)\n",
    "plt.hist(cell_resp['area_under_curve'], bins = 'auto')\n",
    "plt.title('Frequency of AUC Responses')\n",
    "plt.ylabel('Frequency of Response')\n",
    "plt.xlabel('Drug Response Area Under the Curve')\n",
    "plt.axvline(3.5, color='r', linestyle='dashed', linewidth=1)\n",
    "plt.axvline(5.5, color='k', linestyle='dashed', linewidth=1)\n",
    "plt.legend(['Sensitive Line', 'Non-Response Line'])"
   ]
  },
  {
   "cell_type": "code",
   "execution_count": null,
   "metadata": {},
   "outputs": [],
   "source": []
  }
 ],
 "metadata": {
  "kernelspec": {
   "display_name": "Python 3",
   "language": "python",
   "name": "python3"
  },
  "language_info": {
   "codemirror_mode": {
    "name": "ipython",
    "version": 3
   },
   "file_extension": ".py",
   "mimetype": "text/x-python",
   "name": "python",
   "nbconvert_exporter": "python",
   "pygments_lexer": "ipython3",
   "version": "3.6.9"
  }
 },
 "nbformat": 4,
 "nbformat_minor": 4
}
